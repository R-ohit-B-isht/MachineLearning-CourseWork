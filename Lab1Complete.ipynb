{
  "nbformat": 4,
  "nbformat_minor": 0,
  "metadata": {
    "colab": {
      "name": "Lab1Complete.ipynb",
      "provenance": [],
      "collapsed_sections": [],
      "authorship_tag": "ABX9TyPHxry1F+vLBR5igiNKZRe8",
      "include_colab_link": true
    },
    "kernelspec": {
      "name": "python3",
      "display_name": "Python 3"
    },
    "language_info": {
      "name": "python"
    }
  },
  "cells": [
    {
      "cell_type": "markdown",
      "metadata": {
        "id": "view-in-github",
        "colab_type": "text"
      },
      "source": [
        "<a href=\"https://colab.research.google.com/github/R-ohit-B-isht/MachineLearning-CourseWork/blob/main/Lab1Complete.ipynb\" target=\"_parent\"><img src=\"https://colab.research.google.com/assets/colab-badge.svg\" alt=\"Open In Colab\"/></a>"
      ]
    },
    {
      "cell_type": "code",
      "execution_count": 2,
      "metadata": {
        "id": "qCNYu_wPr91E"
      },
      "outputs": [],
      "source": [
        "import numpy as np"
      ]
    },
    {
      "cell_type": "code",
      "source": [
        "a=np.array([[1,2],[2,3]])"
      ],
      "metadata": {
        "id": "V_6vk6hgsEgM"
      },
      "execution_count": 3,
      "outputs": []
    },
    {
      "cell_type": "code",
      "source": [
        "#Reversing\n",
        "array=np.array([1,2,3,4,5])\n",
        "array=array[::-1]\n",
        "array"
      ],
      "metadata": {
        "colab": {
          "base_uri": "https://localhost:8080/"
        },
        "id": "TQ_05qPbsVeQ",
        "outputId": "2773c074-6fe0-4bf8-9c20-531e4d64fb89"
      },
      "execution_count": 4,
      "outputs": [
        {
          "output_type": "execute_result",
          "data": {
            "text/plain": [
              "array([5, 4, 3, 2, 1])"
            ]
          },
          "metadata": {},
          "execution_count": 4
        }
      ]
    },
    {
      "cell_type": "code",
      "source": [
        "#Flattening numpy array\n",
        "array1=np.array([[1,2,3],[2,3,4],[3,4,5]])\n",
        "#array1=array1.flatten()\n",
        "#array1=array1.ravel()\n",
        "array1=array1.reshape([1,9])\n",
        "array1"
      ],
      "metadata": {
        "colab": {
          "base_uri": "https://localhost:8080/"
        },
        "id": "PnYU8VqwvhYa",
        "outputId": "9d0f24af-2182-492c-b12f-bd21ace3adc9"
      },
      "execution_count": 5,
      "outputs": [
        {
          "output_type": "execute_result",
          "data": {
            "text/plain": [
              "array([[1, 2, 3, 2, 3, 4, 3, 4, 5]])"
            ]
          },
          "metadata": {},
          "execution_count": 5
        }
      ]
    },
    {
      "cell_type": "code",
      "source": [
        "#Comparing Numpy arrays\n",
        "arr1=np.array([[1,2],[2,3]])\n",
        "arr2=np.array([[1,2],[2,3]])\n",
        "print(arr1==arr2)"
      ],
      "metadata": {
        "colab": {
          "base_uri": "https://localhost:8080/"
        },
        "id": "gCcgmYRawo7s",
        "outputId": "70126be2-1651-4344-a500-e4bbc15085c4"
      },
      "execution_count": 6,
      "outputs": [
        {
          "output_type": "stream",
          "name": "stdout",
          "text": [
            "[[ True  True]\n",
            " [ True  True]]\n"
          ]
        }
      ]
    },
    {
      "cell_type": "code",
      "source": [
        "x = np.array([1,2,3,4,5,1,2,1,1,1])\n",
        "y = np.array([1, 1, 1, 2, 3, 4, 2, 4, 3, 3, ])\n",
        "def maxer(x):\n",
        "  val,count=np.unique(x,return_counts=True)\n",
        "  max_index=np.argmax(count, axis=0)\n",
        "  maxct=max(count)\n",
        "  myVal=val[max_index]\n",
        "  myVal\n",
        "  print(maxct,\" \", myVal)\n",
        "  indexes=np.where(x==myVal)\n",
        "  print(indexes )\n",
        "\n",
        "maxer(x)\n",
        "maxer(y)"
      ],
      "metadata": {
        "colab": {
          "base_uri": "https://localhost:8080/"
        },
        "id": "c80Ia62HyAUB",
        "outputId": "110c3216-abd6-4e85-b9bb-516223f5bea2"
      },
      "execution_count": 7,
      "outputs": [
        {
          "output_type": "stream",
          "name": "stdout",
          "text": [
            "5   1\n",
            "(array([0, 5, 7, 8, 9]),)\n",
            "3   1\n",
            "(array([0, 1, 2]),)\n"
          ]
        }
      ]
    },
    {
      "cell_type": "code",
      "source": [
        "gfg = np.matrix('[4, 1, 9; 12, 3, 1; 4, 5, 6]')\n",
        "gfg\n",
        "total = gfg.sum()\n",
        "total_rows=gfg.sum(axis=1)\n",
        "total_cols=gfg.sum(axis=0)\n",
        "print(total,total_rows,total_cols,sep=\"\\n\")"
      ],
      "metadata": {
        "colab": {
          "base_uri": "https://localhost:8080/"
        },
        "id": "gmP34Em034rR",
        "outputId": "679b6937-0174-48b2-df55-20f58f29592b"
      },
      "execution_count": 8,
      "outputs": [
        {
          "output_type": "stream",
          "name": "stdout",
          "text": [
            "45\n",
            "[[14]\n",
            " [16]\n",
            " [15]]\n",
            "[[20  9 16]]\n"
          ]
        }
      ]
    },
    {
      "cell_type": "code",
      "source": [
        "n_array = np.array([[55, 25, 15],[30, 44, 2],[11, 45, 77]])\n",
        "trace = np.trace(n_array)\n",
        "ei,ex=np.linalg.eig(n_array)\n",
        "inver=np.linalg.inv(n_array)\n",
        "deter=np.linalg.det(n_array)\n",
        "print(trace,ei,ex,inver,deter,sep=\"\\n \\n\")\n"
      ],
      "metadata": {
        "colab": {
          "base_uri": "https://localhost:8080/"
        },
        "id": "rm9uOV_z5nyX",
        "outputId": "b4587dbb-dfa3-4810-b3fd-68a6da09ec81"
      },
      "execution_count": 9,
      "outputs": [
        {
          "output_type": "stream",
          "name": "stdout",
          "text": [
            "176\n",
            " \n",
            "[98.16835147 28.097044   49.73460452]\n",
            " \n",
            "[[ 0.4574917   0.34637121 -0.15017693]\n",
            " [ 0.28447814 -0.72784061 -0.4852124 ]\n",
            " [ 0.84248058  0.59184038  0.8614034 ]]\n",
            " \n",
            "[[ 0.02404141 -0.00911212 -0.00444671]\n",
            " [-0.01667882  0.02966905  0.0024785 ]\n",
            " [ 0.00631287 -0.01603732  0.01217379]]\n",
            " \n",
            "137180.0000000001\n"
          ]
        }
      ]
    },
    {
      "cell_type": "code",
      "source": [
        "def fds(m1,m2):\n",
        "  result=np.dot(m1,m2)\n",
        "  cover=np.cov(m1,m2)\n",
        "  print(result,cover,sep=\"\\n \\n\")\n",
        "\n",
        "p = [[1, 2], [2, 3]]\n",
        "q = [[4, 5], [6, 7]]\n",
        "fds(p,q)\n",
        "p = [[1, 2], [2, 3], [4, 5]]\n",
        "q = [[4, 5, 1], [6, 7, 2]]\n",
        "result=np.dot(p,q)\n",
        "print(result,sep=\"\\n \\n\")\n",
        "# as the dimension are not equal, the below command will show error\n",
        "# print(np.cov(p,q))"
      ],
      "metadata": {
        "colab": {
          "base_uri": "https://localhost:8080/"
        },
        "id": "q5_UkqRU7iYO",
        "outputId": "a90dbfec-06d0-4c2d-b5a8-03e66d567293"
      },
      "execution_count": 11,
      "outputs": [
        {
          "output_type": "stream",
          "name": "stdout",
          "text": [
            "[[16 19]\n",
            " [26 31]]\n",
            " \n",
            "[[0.5 0.5 0.5 0.5]\n",
            " [0.5 0.5 0.5 0.5]\n",
            " [0.5 0.5 0.5 0.5]\n",
            " [0.5 0.5 0.5 0.5]]\n",
            "[[16 19  5]\n",
            " [26 31  8]\n",
            " [46 55 14]]\n"
          ]
        }
      ]
    },
    {
      "cell_type": "code",
      "source": [
        "x = np.array([[2, 3, 4], [3, 2, 9]])\n",
        "y = np.array([[1, 5, 0], [5, 10, 3]])\n",
        "\n",
        "print(np.inner(x,y))\n",
        "print(np.outer(x,y))\n",
        "print(np.cross(x,y))\n"
      ],
      "metadata": {
        "colab": {
          "base_uri": "https://localhost:8080/"
        },
        "id": "a1ePgLHdY2vR",
        "outputId": "55bd8532-f655-4d8a-fd79-8ac9b11a8106"
      },
      "execution_count": 12,
      "outputs": [
        {
          "output_type": "stream",
          "name": "stdout",
          "text": [
            "[[17 52]\n",
            " [13 62]]\n",
            "[[ 2 10  0 10 20  6]\n",
            " [ 3 15  0 15 30  9]\n",
            " [ 4 20  0 20 40 12]\n",
            " [ 3 15  0 15 30  9]\n",
            " [ 2 10  0 10 20  6]\n",
            " [ 9 45  0 45 90 27]]\n",
            "[[-20   4   7]\n",
            " [-84  36  20]]\n"
          ]
        }
      ]
    },
    {
      "cell_type": "code",
      "source": [
        "array = np.array([[1, -2, 3],[-4, 5, -6]])\n",
        "print(\"Abs  val : \\n\",np.absolute(array))\n",
        "\n",
        "print(\"25th percentile : \",np.percentile(array.flatten(),25))\n",
        "print(\"50th percentile : \",np.percentile(array.flatten(),50))\n",
        "print(\"75th percentile : \",np.percentile(array.flatten(),75))\n",
        "\n",
        "print(\"Mean (Col): \",np.mean(array,axis=0))\n",
        "print(\"Mean (Row): \",np.mean(array,axis=1))\n",
        "\n",
        "print(\"Median (Col): \",np.median(array,axis=0))\n",
        "print(\"Median (Col): \",np.median(array,axis=1))\n",
        "\n",
        "print(\"Std: \",np.std(array))\n"
      ],
      "metadata": {
        "colab": {
          "base_uri": "https://localhost:8080/"
        },
        "id": "0zsx8DWSY6Ti",
        "outputId": "69b600cc-eb54-4aaa-9916-7cb182139736"
      },
      "execution_count": 13,
      "outputs": [
        {
          "output_type": "stream",
          "name": "stdout",
          "text": [
            "Abs  val : \n",
            " [[1 2 3]\n",
            " [4 5 6]]\n",
            "25th percentile :  -3.5\n",
            "50th percentile :  -0.5\n",
            "75th percentile :  2.5\n",
            "Mean (Col):  [-1.5  1.5 -1.5]\n",
            "Mean (Row):  [ 0.66666667 -1.66666667]\n",
            "Median (Col):  [-1.5  1.5 -1.5]\n",
            "Median (Col):  [ 1. -4.]\n",
            "Std:  3.8622100754188224\n"
          ]
        }
      ]
    },
    {
      "cell_type": "code",
      "source": [
        "a = np.array([-1.8, -1.6, -0.5, 0.5,1.6, 1.8, 3.0])\n",
        "print(\"Floor : \",np.floor(a))\n",
        "print(\"Ceil : \",np.ceil(a))\n",
        "print(\"Trunc : \",np.trunc(a))\n",
        "print(\"Round : \",np.round(a))"
      ],
      "metadata": {
        "colab": {
          "base_uri": "https://localhost:8080/"
        },
        "id": "eqLcABC_Y9SX",
        "outputId": "beafbf38-a07e-4153-a074-e7316cf810e3"
      },
      "execution_count": 14,
      "outputs": [
        {
          "output_type": "stream",
          "name": "stdout",
          "text": [
            "Floor :  [-2. -2. -1.  0.  1.  1.  3.]\n",
            "Ceil :  [-1. -1. -0.  1.  2.  2.  3.]\n",
            "Trunc :  [-1. -1. -0.  0.  1.  1.  3.]\n",
            "Round :  [-2. -2. -0.  0.  2.  2.  3.]\n"
          ]
        }
      ]
    },
    {
      "cell_type": "code",
      "source": [
        "a = np.array([10, 52, 62, 16, 16, 54, 453])\n",
        "print(\"Sorted \",np.sort(a))\n",
        "print(\"Indexed \",np.argsort(a))\n",
        "print(\"4 smallest  \",np.sort(a)[0:4])\n",
        "print(\"5 largest \",np.sort(a)[-1:-6:-1])"
      ],
      "metadata": {
        "colab": {
          "base_uri": "https://localhost:8080/"
        },
        "id": "fXlYUz1dY_3Y",
        "outputId": "1ea7ae71-68c2-44e9-8ee8-e3e2c1532a11"
      },
      "execution_count": 15,
      "outputs": [
        {
          "output_type": "stream",
          "name": "stdout",
          "text": [
            "Sorted  [ 10  16  16  52  54  62 453]\n",
            "Indexed  [0 3 4 1 5 2 6]\n",
            "4 smallest   [10 16 16 52]\n",
            "5 largest  [453  62  54  52  16]\n"
          ]
        }
      ]
    },
    {
      "cell_type": "code",
      "source": [
        "array = np.array([1.0, 1.2, 2.2, 2.0, 3.0, 2.0])\n",
        "\n",
        "print(\"Integer  : \",array[array==array.astype(int)])\n",
        "print(\"Float  : \",array[array!=array.astype(int)])"
      ],
      "metadata": {
        "colab": {
          "base_uri": "https://localhost:8080/"
        },
        "id": "7yGUNyv0ZDJ-",
        "outputId": "109624cc-b315-47dc-cd7b-19212eee1031"
      },
      "execution_count": 16,
      "outputs": [
        {
          "output_type": "stream",
          "name": "stdout",
          "text": [
            "Integer  :  [1. 2. 3. 2.]\n",
            "Float  :  [1.2 2.2]\n"
          ]
        }
      ]
    },
    {
      "cell_type": "code",
      "source": [
        "# %matplotlib inline\n",
        "import cv2\n",
        "from matplotlib import pyplot as plt"
      ],
      "metadata": {
        "id": "2WI3GFe5ZGkV"
      },
      "execution_count": 17,
      "outputs": []
    },
    {
      "cell_type": "code",
      "source": [
        "image = cv2.imread('/content/download.png')\n",
        "plt.imshow(image)\n",
        "plt.show()"
      ],
      "metadata": {
        "colab": {
          "base_uri": "https://localhost:8080/",
          "height": 269
        },
        "id": "NHr2qc3HZJ12",
        "outputId": "4e053890-5538-46f7-da46-4573c5fbca44"
      },
      "execution_count": 19,
      "outputs": [
        {
          "output_type": "display_data",
          "data": {
            "text/plain": [
              "<Figure size 432x288 with 1 Axes>"
            ],
            "image/png": "[encoded data removed]"
          },
          "metadata": {
            "needs_background": "light"
          }
        }
      ]
    },
    {
      "cell_type": "code",
      "source": [
        "np.savetxt('save.txt',image.reshape(image.shape[0],-1))"
      ],
      "metadata": {
        "id": "H8fV8m7xZzmU"
      },
      "execution_count": 20,
      "outputs": []
    },
    {
      "cell_type": "code",
      "source": [
        "loaded_image = np.loadtxt('save.txt')\n",
        "load_original_arr = loaded_image.reshape(\n",
        "    loaded_image.shape[0], loaded_image.shape[1] // 3, 3)\n",
        "\n",
        "plt.imshow(image)\n",
        "plt.show()"
      ],
      "metadata": {
        "colab": {
          "base_uri": "https://localhost:8080/",
          "height": 269
        },
        "id": "W_vdhcq2Z3NG",
        "outputId": "c27ee6a2-19c3-4114-d07b-638350a02a0e"
      },
      "execution_count": 21,
      "outputs": [
        {
          "output_type": "display_data",
          "data": {
            "text/plain": [
              "<Figure size 432x288 with 1 Axes>"
            ],
            "image/png": "[encoded data removed]"
          },
          "metadata": {
            "needs_background": "light"
          }
        }
      ]
    }
  ]
}